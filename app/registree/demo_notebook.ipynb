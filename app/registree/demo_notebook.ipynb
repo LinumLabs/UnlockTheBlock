{
 "cells": [
  {
   "cell_type": "code",
   "execution_count": 1,
   "metadata": {},
   "outputs": [],
   "source": [
    "import pandas as pd\n",
    "import sqlite3\n",
    "import json\n",
    "import web3\n",
    "\n",
    "from web3 import Web3, HTTPProvider, TestRPCProvider\n",
    "from solc import compile_source\n",
    "from web3.contract import ConciseContract"
   ]
  },
  {
   "cell_type": "markdown",
   "metadata": {},
   "source": [
    "# Registree rocks demo\n",
    "\n",
    "## 1 Connect to university database"
   ]
  },
  {
   "cell_type": "code",
   "execution_count": 2,
   "metadata": {},
   "outputs": [],
   "source": [
    "conn = sqlite3.connect('UCTDB.sqlite')\n",
    "cur = conn.cursor()"
   ]
  },
  {
   "cell_type": "markdown",
   "metadata": {},
   "source": [
    "## 2 Extract relevant data"
   ]
  },
  {
   "cell_type": "code",
   "execution_count": 3,
   "metadata": {},
   "outputs": [],
   "source": [
    "students = pd.read_sql_query(\"\"\"\n",
    "SELECT ID_student_number.student_number, first_name, last_name, sex, race, date_of_birth\n",
    "FROM DemographicTable JOIN ID_student_number ON DemographicTable.id_number = ID_student_number.id_number;\n",
    "\"\"\", conn)\n",
    "course_information = pd.read_sql_query(\"\"\"\n",
    "SELECT course_code, course_name, course_credits\n",
    "FROM ResultsTable;\n",
    "\"\"\", conn).drop_duplicates()\n",
    "student_grades = pd.read_sql_query(\"\"\"\n",
    "SELECT ID_student_number.student_number, ResultsTable.course_code, ResultsTable.course_marks \n",
    "FROM ResultsTable JOIN ID_student_number ON ResultsTable.sp_id = ID_student_number.id;\n",
    "\"\"\", conn)"
   ]
  },
  {
   "cell_type": "code",
   "execution_count": 4,
   "metadata": {},
   "outputs": [
    {
     "data": {
      "text/html": [
       "<div>\n",
       "<style scoped>\n",
       "    .dataframe tbody tr th:only-of-type {\n",
       "        vertical-align: middle;\n",
       "    }\n",
       "\n",
       "    .dataframe tbody tr th {\n",
       "        vertical-align: top;\n",
       "    }\n",
       "\n",
       "    .dataframe thead th {\n",
       "        text-align: right;\n",
       "    }\n",
       "</style>\n",
       "<table border=\"1\" class=\"dataframe\">\n",
       "  <thead>\n",
       "    <tr style=\"text-align: right;\">\n",
       "      <th></th>\n",
       "      <th>student_number</th>\n",
       "      <th>first_name</th>\n",
       "      <th>last_name</th>\n",
       "      <th>sex</th>\n",
       "      <th>race</th>\n",
       "      <th>date_of_birth</th>\n",
       "    </tr>\n",
       "  </thead>\n",
       "  <tbody>\n",
       "    <tr>\n",
       "      <th>0</th>\n",
       "      <td>RAFHUN000000000</td>\n",
       "      <td>Rafael</td>\n",
       "      <td>Hunter</td>\n",
       "      <td>female</td>\n",
       "      <td>other</td>\n",
       "      <td>1998-11-23</td>\n",
       "    </tr>\n",
       "    <tr>\n",
       "      <th>1</th>\n",
       "      <td>MARFLE000000001</td>\n",
       "      <td>Marnie</td>\n",
       "      <td>Fletcher</td>\n",
       "      <td>female</td>\n",
       "      <td>other</td>\n",
       "      <td>1996-06-07</td>\n",
       "    </tr>\n",
       "    <tr>\n",
       "      <th>2</th>\n",
       "      <td>GRECAL000000002</td>\n",
       "      <td>Gregory</td>\n",
       "      <td>Calvin</td>\n",
       "      <td>male</td>\n",
       "      <td>black</td>\n",
       "      <td>1999-02-12</td>\n",
       "    </tr>\n",
       "  </tbody>\n",
       "</table>\n",
       "</div>"
      ],
      "text/plain": [
       "    student_number first_name last_name     sex   race date_of_birth\n",
       "0  RAFHUN000000000     Rafael    Hunter  female  other    1998-11-23\n",
       "1  MARFLE000000001     Marnie  Fletcher  female  other    1996-06-07\n",
       "2  GRECAL000000002    Gregory    Calvin    male  black    1999-02-12"
      ]
     },
     "execution_count": 4,
     "metadata": {},
     "output_type": "execute_result"
    }
   ],
   "source": [
    "students.head(3)"
   ]
  },
  {
   "cell_type": "markdown",
   "metadata": {},
   "source": [
    "## 3 Export as csv\n",
    "\n",
    "### student information"
   ]
  },
  {
   "cell_type": "code",
   "execution_count": 5,
   "metadata": {},
   "outputs": [],
   "source": [
    "students.to_csv('students.csv', sep='|', index=False)"
   ]
  },
  {
   "cell_type": "markdown",
   "metadata": {},
   "source": [
    "### Course information"
   ]
  },
  {
   "cell_type": "code",
   "execution_count": 6,
   "metadata": {},
   "outputs": [],
   "source": [
    "course_information.to_csv('course_info.csv', sep='|', index=False)"
   ]
  },
  {
   "cell_type": "markdown",
   "metadata": {},
   "source": [
    "### Student performance"
   ]
  },
  {
   "cell_type": "code",
   "execution_count": 7,
   "metadata": {},
   "outputs": [],
   "source": [
    "grouped_grades = student_grades.groupby('course_code')\n",
    "for name, group in grouped_grades:\n",
    "    group.to_csv('{}_grades.csv'.format(name), sep='|', index=False)"
   ]
  },
  {
   "cell_type": "markdown",
   "metadata": {},
   "source": [
    "\n",
    "\n",
    "## 4 Initialize Blockchain"
   ]
  },
  {
   "cell_type": "code",
   "execution_count": 8,
   "metadata": {},
   "outputs": [],
   "source": [
    "def compile_contract(contract_file, contract_name):\n",
    "    contract_sol = compile_source(contract_file) # Compiled source code\n",
    "    interface = contract_sol['<stdin>:' + contract_name]\n",
    "    return interface"
   ]
  },
  {
   "cell_type": "code",
   "execution_count": 9,
   "metadata": {},
   "outputs": [],
   "source": [
    "def deploy_contract(interface):\n",
    "    # Instantiate and deploy contract\n",
    "    contract = web3.eth.contract(abi=interface['abi'], bytecode=interface['bin'])\n",
    "\n",
    "    # Get transaction hash from deployed contract\n",
    "    tx_hash = contract.deploy(transaction={'from': web3.eth.accounts[0], 'gas': 4100000})\n",
    "\n",
    "    # Get tx receipt to get contract address\n",
    "    tx_receipt = web3.eth.getTransactionReceipt(tx_hash)\n",
    "    contract_address = tx_receipt['contractAddress']\n",
    "\n",
    "    # Contract instance in concise mode\n",
    "    contract = web3.eth.contract(abi=interface['abi'], address=contract_address, ContractFactoryClass=ConciseContract)\n",
    "\n",
    "    return (contract, contract_address)"
   ]
  },
  {
   "cell_type": "code",
   "execution_count": 10,
   "metadata": {},
   "outputs": [],
   "source": [
    "def import_students_to_blockchain(students, interface):\n",
    "    student_dict = {}\n",
    "    print('<<<<<<<< Register Students on Blockchain >>>>>>>>')\n",
    "    for line in students[1:]:\n",
    "        (contract, contract_address) = deploy_contract(interface)\n",
    "        line = line.strip()\n",
    "        infos = line.split('|')\n",
    "        contract.setStudentID(infos[0], transact={'from': web3.eth.accounts[0]})\n",
    "        contract.setFirstName(infos[1], transact={'from': web3.eth.accounts[0]})\n",
    "        contract.setLastName(infos[2], transact={'from': web3.eth.accounts[0]})\n",
    "        contract.setSex(infos[3], transact={'from': web3.eth.accounts[0]})\n",
    "        contract.setRace(infos[4], transact={'from': web3.eth.accounts[0]})\n",
    "        contract.setDoB(infos[5], transact={'from': web3.eth.accounts[0]})\n",
    "        student_id = contract.studentID()\n",
    "        print('Student ID: ', student_id, ' Address: ', contract_address)\n",
    "        student_dict[student_id] = contract_address\n",
    "    return student_dict"
   ]
  },
  {
   "cell_type": "code",
   "execution_count": 11,
   "metadata": {},
   "outputs": [],
   "source": [
    "def import_courses_to_blockchain(courses, interface):\n",
    "    course_dict = {}\n",
    "    print('<<<<<<<< Register Courses on Blockchain >>>>>>>>')\n",
    "    for line in courses[1:]:\n",
    "        (contract, contract_address) = deploy_contract(interface)\n",
    "        line = line.strip()\n",
    "        infos = line.split('|')\n",
    "        contract.setCode(infos[0], transact={'from': web3.eth.accounts[0]})\n",
    "        contract.setName(infos[1], transact={'from': web3.eth.accounts[0]})\n",
    "        contract.setCredits(int(infos[2]), transact={'from': web3.eth.accounts[0]})\n",
    "        course_code = contract.code()\n",
    "        print('Course ID: ', course_code, ' Address: ', contract_address)\n",
    "        course_dict[course_code] = contract_address\n",
    "    return course_dict"
   ]
  },
  {
   "cell_type": "code",
   "execution_count": 12,
   "metadata": {},
   "outputs": [],
   "source": [
    "def enroll_students_on_blockchain(student_dict, course_dict, interface):\n",
    "    print('<<<<<<<< Enroll Students in Courses >>>>>>>>')\n",
    "    for student_id, student_address in student_dict.items():\n",
    "        student_contract = web3.eth.contract(abi=interface['abi'], address=student_address, ContractFactoryClass=ConciseContract)\n",
    "        for course_code, course_address in course_dict.items():\n",
    "            student_contract.addCourse(course_address, transact={'from': web3.eth.accounts[0]})\n",
    "        print('Student ID: ', student_id, ' Courses: ', student_contract.getCourseList())\n"
   ]
  },
  {
   "cell_type": "code",
   "execution_count": 13,
   "metadata": {},
   "outputs": [],
   "source": [
    "def substitute_id_and_code_with_address(input_filename, output_filename, student_dict, course_dict):\n",
    "    with open(input_filename, 'r') as myfile:\n",
    "        grades = myfile.readlines()\n",
    "    output_grades = []    \n",
    "    for line in grades[1:]:\n",
    "        info = line.strip().split('|')\n",
    "        substitute = student_dict[info[0]]+ '|' + course_dict[info[1]] + '|' + info [2] + '\\n'\n",
    "        output_grades.append(substitute)\n",
    "    with open(output_filename, 'w') as myfile:\n",
    "        for line in output_grades:\n",
    "            myfile.write(line)"
   ]
  },
  {
   "cell_type": "code",
   "execution_count": 14,
   "metadata": {},
   "outputs": [
    {
     "name": "stdout",
     "output_type": "stream",
     "text": [
      "<<<<<<<< Register Students on Blockchain >>>>>>>>\n",
      "Student ID:  RAFHUN000000000  Address:  0xA8DD324c459e20BCf667315658cAEaC51dA77F2D\n",
      "Student ID:  MARFLE000000001  Address:  0xEEBc06851a186e2C7C9A340e62e165155579e277\n",
      "Student ID:  GRECAL000000002  Address:  0xE0e9D0840fF25848c2a0D4D22b6D1cFA546C5bc9\n",
      "Student ID:  JASJOS000000003  Address:  0x8821C9eC09aefD1fe294cFed0F6e32aC43dfEba0\n",
      "Student ID:  ELIMCL000000004  Address:  0xD3b6667DB793F742F9565d11eE4F0980d0631536\n",
      "Student ID:  MARVAW000000005  Address:  0xE0c42aEAefD57Cdb578759adcdAfc086f9e10Fd4\n",
      "Student ID:  PAUPRO000000006  Address:  0xf7e31FacA6fA3a10b352df8C945BBAbC34e36C2E\n",
      "Student ID:  JUDVEG000000007  Address:  0x14D8f234Aa32926A4AFEd52D4BC21F62E3c59cFD\n",
      "Student ID:  CHAWID000000008  Address:  0x2C13235e720df4f4233692b2Dd4D8FecEB3dB827\n",
      "Student ID:  KIMSKI000000009  Address:  0xEeb2ABBC65597B76DF039c9913C552A244117976\n",
      "Student ID:  LISMOR000000010  Address:  0x1B13599F40b879C398E8720a95C64ebDD53DeB74\n",
      "Student ID:  DANBOW000000011  Address:  0x0d2587ab6be98F712DCBBD310eD5f46Acac14d61\n",
      "Student ID:  ROBHOW000000012  Address:  0x4dEb3e46CA939e0da97A5af3f48E96b365465DEA\n",
      "Student ID:  NATTRA000000013  Address:  0x264a0154f3dBD816F8F7fF3FEA90eA5Bf478F1D4\n",
      "Student ID:  CONGHE000000014  Address:  0x78A0Fd2603f7c556FBF89dE290DEb23ac212Eaeb\n",
      "Student ID:  BRIWAL000000015  Address:  0xF3D880854222f7B77bf19f0D1f5cD15cf94Da660\n",
      "Student ID:  DANMEJ000000016  Address:  0x1ef9823b92ec9C801DD9739bc225Ad4301d76f35\n",
      "Student ID:  VELCOO000000017  Address:  0xEa96bDA026Bbe82bCbDcb6b404ceee9AAEb883B6\n",
      "Student ID:  ANNCAI000000018  Address:  0x138828a4B85526093C5354235cc0F62855375F1e\n",
      "Student ID:  BRUSTE000000019  Address:  0x02295e379A33998a54433FdB1E24302016834307\n",
      "Student ID:  STERYA000000020  Address:  0x1e1C055F98350f3C52904F429E9D5dd8A5B9cd23\n",
      "Student ID:  GERVAS000000021  Address:  0x43De8F182F2dF368E31b7a3cB0892C7885F26c3c\n",
      "Student ID:  WILWRI000000022  Address:  0xF075e7f0623415eeD216753B0A385CC58deD1190\n",
      "Student ID:  MICYOU000000023  Address:  0x4286c80b1f05816aE84b087f7E0c5b7A759673cD\n",
      "Student ID:  LOYPET000000024  Address:  0x18F8E6b44bC9B3d3ac7143f697e59F4eAb59c7D7\n",
      "Student ID:  PATJON000000025  Address:  0xFDCa310272fB1d1C1FDB5D3F301A21443862Ac1b\n",
      "Student ID:  MARDEE000000026  Address:  0x6e740DD2057c5dCdF2482B2c1Fa0bc3053519436\n",
      "Student ID:  JASROB000000027  Address:  0x5E1928496f520b9BCcFbFC4CDE79036bD8889076\n",
      "Student ID:  EDDSKA000000028  Address:  0x8dbf86dd4817E02158deA614bd6DcFB216Bab168\n",
      "Student ID:  TARRAM000000029  Address:  0xA7af70A18fF40dD758a13Cf7eF67d4eF4F41061b\n",
      "Student ID:  MICVAR000000030  Address:  0xc698Ac3ff5bDd5aE3cF16924cbBC6Be00aea6742\n",
      "Student ID:  ALBKAY000000031  Address:  0xa2114754F1b6250e9998265531CBdB513bc3538e\n",
      "Student ID:  CARNOD000000032  Address:  0x93E3E8Dc2801FDa3bF4f6aa9beFcf4e9e03541a0\n",
      "Student ID:  SONWIL000000033  Address:  0x247CB83F35d356a90cA372ED2Fa06c67f02326FF\n",
      "Student ID:  JENCAM000000034  Address:  0xff1D78E4B8fE882674aa2FeA366280599E91d3d0\n",
      "Student ID:  JUAHIN000000035  Address:  0x0633A498934e5C8c6e838db4E8A7922ed557822d\n",
      "Student ID:  CHRBAC000000036  Address:  0x74A2D946f798aD851798134a771B0251FA3BD92E\n",
      "Student ID:  KEVTER000000037  Address:  0x93D016668A1F8D984978F2CAE9e05d5FA7F146E3\n",
      "Student ID:  AMABEL000000038  Address:  0x03e4e202252b030c2e6e3fE4E9CfcbF960189dF1\n",
      "Student ID:  BETRAI000000039  Address:  0x8e060c15E3C9a184904dbE8C951dc31d9cEECeB8\n",
      "<<<<<<<< Register Courses on Blockchain >>>>>>>>\n",
      "Course ID:  KWS30013C  Address:  0xf04e8D5d777aC2497041676Ac1466c06af351984\n",
      "Course ID:  ZWE22213W  Address:  0xac330069eF5F6AEd07f2FDcB6B13f4A6dc2aE79D\n",
      "Course ID:  WOZ52303W  Address:  0x0Ae2F1aAD7e98862f56588e9605B96E4422a5B2d\n",
      "Course ID:  DOC50005W  Address:  0xbD6C8555B655172f29409dB472671Cb3ba59FC4c\n",
      "<<<<<<<< Enroll Students in Courses >>>>>>>>\n",
      "Student ID:  JASROB000000027  Courses:  ['0xbD6C8555B655172f29409dB472671Cb3ba59FC4c', '0xac330069eF5F6AEd07f2FDcB6B13f4A6dc2aE79D', '0x0Ae2F1aAD7e98862f56588e9605B96E4422a5B2d', '0xf04e8D5d777aC2497041676Ac1466c06af351984']\n",
      "Student ID:  MARFLE000000001  Courses:  ['0xbD6C8555B655172f29409dB472671Cb3ba59FC4c', '0xac330069eF5F6AEd07f2FDcB6B13f4A6dc2aE79D', '0x0Ae2F1aAD7e98862f56588e9605B96E4422a5B2d', '0xf04e8D5d777aC2497041676Ac1466c06af351984']\n",
      "Student ID:  RAFHUN000000000  Courses:  ['0xbD6C8555B655172f29409dB472671Cb3ba59FC4c', '0xac330069eF5F6AEd07f2FDcB6B13f4A6dc2aE79D', '0x0Ae2F1aAD7e98862f56588e9605B96E4422a5B2d', '0xf04e8D5d777aC2497041676Ac1466c06af351984']\n",
      "Student ID:  NATTRA000000013  Courses:  ['0xbD6C8555B655172f29409dB472671Cb3ba59FC4c', '0xac330069eF5F6AEd07f2FDcB6B13f4A6dc2aE79D', '0x0Ae2F1aAD7e98862f56588e9605B96E4422a5B2d', '0xf04e8D5d777aC2497041676Ac1466c06af351984']\n",
      "Student ID:  BETRAI000000039  Courses:  ['0xbD6C8555B655172f29409dB472671Cb3ba59FC4c', '0xac330069eF5F6AEd07f2FDcB6B13f4A6dc2aE79D', '0x0Ae2F1aAD7e98862f56588e9605B96E4422a5B2d', '0xf04e8D5d777aC2497041676Ac1466c06af351984']\n",
      "Student ID:  GRECAL000000002  Courses:  ['0xbD6C8555B655172f29409dB472671Cb3ba59FC4c', '0xac330069eF5F6AEd07f2FDcB6B13f4A6dc2aE79D', '0x0Ae2F1aAD7e98862f56588e9605B96E4422a5B2d', '0xf04e8D5d777aC2497041676Ac1466c06af351984']\n",
      "Student ID:  PAUPRO000000006  Courses:  ['0xbD6C8555B655172f29409dB472671Cb3ba59FC4c', '0xac330069eF5F6AEd07f2FDcB6B13f4A6dc2aE79D', '0x0Ae2F1aAD7e98862f56588e9605B96E4422a5B2d', '0xf04e8D5d777aC2497041676Ac1466c06af351984']\n",
      "Student ID:  MICYOU000000023  Courses:  ['0xbD6C8555B655172f29409dB472671Cb3ba59FC4c', '0xac330069eF5F6AEd07f2FDcB6B13f4A6dc2aE79D', '0x0Ae2F1aAD7e98862f56588e9605B96E4422a5B2d', '0xf04e8D5d777aC2497041676Ac1466c06af351984']\n",
      "Student ID:  PATJON000000025  Courses:  ['0xbD6C8555B655172f29409dB472671Cb3ba59FC4c', '0xac330069eF5F6AEd07f2FDcB6B13f4A6dc2aE79D', '0x0Ae2F1aAD7e98862f56588e9605B96E4422a5B2d', '0xf04e8D5d777aC2497041676Ac1466c06af351984']\n",
      "Student ID:  ALBKAY000000031  Courses:  ['0xbD6C8555B655172f29409dB472671Cb3ba59FC4c', '0xac330069eF5F6AEd07f2FDcB6B13f4A6dc2aE79D', '0x0Ae2F1aAD7e98862f56588e9605B96E4422a5B2d', '0xf04e8D5d777aC2497041676Ac1466c06af351984']\n",
      "Student ID:  CONGHE000000014  Courses:  ['0xbD6C8555B655172f29409dB472671Cb3ba59FC4c', '0xac330069eF5F6AEd07f2FDcB6B13f4A6dc2aE79D', '0x0Ae2F1aAD7e98862f56588e9605B96E4422a5B2d', '0xf04e8D5d777aC2497041676Ac1466c06af351984']\n",
      "Student ID:  ELIMCL000000004  Courses:  ['0xbD6C8555B655172f29409dB472671Cb3ba59FC4c', '0xac330069eF5F6AEd07f2FDcB6B13f4A6dc2aE79D', '0x0Ae2F1aAD7e98862f56588e9605B96E4422a5B2d', '0xf04e8D5d777aC2497041676Ac1466c06af351984']\n",
      "Student ID:  WILWRI000000022  Courses:  ['0xbD6C8555B655172f29409dB472671Cb3ba59FC4c', '0xac330069eF5F6AEd07f2FDcB6B13f4A6dc2aE79D', '0x0Ae2F1aAD7e98862f56588e9605B96E4422a5B2d', '0xf04e8D5d777aC2497041676Ac1466c06af351984']\n",
      "Student ID:  KIMSKI000000009  Courses:  ['0xbD6C8555B655172f29409dB472671Cb3ba59FC4c', '0xac330069eF5F6AEd07f2FDcB6B13f4A6dc2aE79D', '0x0Ae2F1aAD7e98862f56588e9605B96E4422a5B2d', '0xf04e8D5d777aC2497041676Ac1466c06af351984']\n",
      "Student ID:  TARRAM000000029  Courses:  ['0xbD6C8555B655172f29409dB472671Cb3ba59FC4c', '0xac330069eF5F6AEd07f2FDcB6B13f4A6dc2aE79D', '0x0Ae2F1aAD7e98862f56588e9605B96E4422a5B2d', '0xf04e8D5d777aC2497041676Ac1466c06af351984']\n",
      "Student ID:  SONWIL000000033  Courses:  ['0xbD6C8555B655172f29409dB472671Cb3ba59FC4c', '0xac330069eF5F6AEd07f2FDcB6B13f4A6dc2aE79D', '0x0Ae2F1aAD7e98862f56588e9605B96E4422a5B2d', '0xf04e8D5d777aC2497041676Ac1466c06af351984']\n",
      "Student ID:  STERYA000000020  Courses:  ['0xbD6C8555B655172f29409dB472671Cb3ba59FC4c', '0xac330069eF5F6AEd07f2FDcB6B13f4A6dc2aE79D', '0x0Ae2F1aAD7e98862f56588e9605B96E4422a5B2d', '0xf04e8D5d777aC2497041676Ac1466c06af351984']\n",
      "Student ID:  BRUSTE000000019  Courses:  ['0xbD6C8555B655172f29409dB472671Cb3ba59FC4c', '0xac330069eF5F6AEd07f2FDcB6B13f4A6dc2aE79D', '0x0Ae2F1aAD7e98862f56588e9605B96E4422a5B2d', '0xf04e8D5d777aC2497041676Ac1466c06af351984']\n",
      "Student ID:  LISMOR000000010  Courses:  ['0xbD6C8555B655172f29409dB472671Cb3ba59FC4c', '0xac330069eF5F6AEd07f2FDcB6B13f4A6dc2aE79D', '0x0Ae2F1aAD7e98862f56588e9605B96E4422a5B2d', '0xf04e8D5d777aC2497041676Ac1466c06af351984']\n",
      "Student ID:  LOYPET000000024  Courses:  ['0xbD6C8555B655172f29409dB472671Cb3ba59FC4c', '0xac330069eF5F6AEd07f2FDcB6B13f4A6dc2aE79D', '0x0Ae2F1aAD7e98862f56588e9605B96E4422a5B2d', '0xf04e8D5d777aC2497041676Ac1466c06af351984']\n"
     ]
    },
    {
     "name": "stdout",
     "output_type": "stream",
     "text": [
      "Student ID:  JUAHIN000000035  Courses:  ['0xbD6C8555B655172f29409dB472671Cb3ba59FC4c', '0xac330069eF5F6AEd07f2FDcB6B13f4A6dc2aE79D', '0x0Ae2F1aAD7e98862f56588e9605B96E4422a5B2d', '0xf04e8D5d777aC2497041676Ac1466c06af351984']\n",
      "Student ID:  BRIWAL000000015  Courses:  ['0xbD6C8555B655172f29409dB472671Cb3ba59FC4c', '0xac330069eF5F6AEd07f2FDcB6B13f4A6dc2aE79D', '0x0Ae2F1aAD7e98862f56588e9605B96E4422a5B2d', '0xf04e8D5d777aC2497041676Ac1466c06af351984']\n",
      "Student ID:  AMABEL000000038  Courses:  ['0xbD6C8555B655172f29409dB472671Cb3ba59FC4c', '0xac330069eF5F6AEd07f2FDcB6B13f4A6dc2aE79D', '0x0Ae2F1aAD7e98862f56588e9605B96E4422a5B2d', '0xf04e8D5d777aC2497041676Ac1466c06af351984']\n",
      "Student ID:  JASJOS000000003  Courses:  ['0xbD6C8555B655172f29409dB472671Cb3ba59FC4c', '0xac330069eF5F6AEd07f2FDcB6B13f4A6dc2aE79D', '0x0Ae2F1aAD7e98862f56588e9605B96E4422a5B2d', '0xf04e8D5d777aC2497041676Ac1466c06af351984']\n",
      "Student ID:  GERVAS000000021  Courses:  ['0xbD6C8555B655172f29409dB472671Cb3ba59FC4c', '0xac330069eF5F6AEd07f2FDcB6B13f4A6dc2aE79D', '0x0Ae2F1aAD7e98862f56588e9605B96E4422a5B2d', '0xf04e8D5d777aC2497041676Ac1466c06af351984']\n",
      "Student ID:  MICVAR000000030  Courses:  ['0xbD6C8555B655172f29409dB472671Cb3ba59FC4c', '0xac330069eF5F6AEd07f2FDcB6B13f4A6dc2aE79D', '0x0Ae2F1aAD7e98862f56588e9605B96E4422a5B2d', '0xf04e8D5d777aC2497041676Ac1466c06af351984']\n",
      "Student ID:  MARDEE000000026  Courses:  ['0xbD6C8555B655172f29409dB472671Cb3ba59FC4c', '0xac330069eF5F6AEd07f2FDcB6B13f4A6dc2aE79D', '0x0Ae2F1aAD7e98862f56588e9605B96E4422a5B2d', '0xf04e8D5d777aC2497041676Ac1466c06af351984']\n",
      "Student ID:  DANBOW000000011  Courses:  ['0xbD6C8555B655172f29409dB472671Cb3ba59FC4c', '0xac330069eF5F6AEd07f2FDcB6B13f4A6dc2aE79D', '0x0Ae2F1aAD7e98862f56588e9605B96E4422a5B2d', '0xf04e8D5d777aC2497041676Ac1466c06af351984']\n",
      "Student ID:  EDDSKA000000028  Courses:  ['0xbD6C8555B655172f29409dB472671Cb3ba59FC4c', '0xac330069eF5F6AEd07f2FDcB6B13f4A6dc2aE79D', '0x0Ae2F1aAD7e98862f56588e9605B96E4422a5B2d', '0xf04e8D5d777aC2497041676Ac1466c06af351984']\n",
      "Student ID:  VELCOO000000017  Courses:  ['0xbD6C8555B655172f29409dB472671Cb3ba59FC4c', '0xac330069eF5F6AEd07f2FDcB6B13f4A6dc2aE79D', '0x0Ae2F1aAD7e98862f56588e9605B96E4422a5B2d', '0xf04e8D5d777aC2497041676Ac1466c06af351984']\n",
      "Student ID:  JENCAM000000034  Courses:  ['0xbD6C8555B655172f29409dB472671Cb3ba59FC4c', '0xac330069eF5F6AEd07f2FDcB6B13f4A6dc2aE79D', '0x0Ae2F1aAD7e98862f56588e9605B96E4422a5B2d', '0xf04e8D5d777aC2497041676Ac1466c06af351984']\n",
      "Student ID:  CHRBAC000000036  Courses:  ['0xbD6C8555B655172f29409dB472671Cb3ba59FC4c', '0xac330069eF5F6AEd07f2FDcB6B13f4A6dc2aE79D', '0x0Ae2F1aAD7e98862f56588e9605B96E4422a5B2d', '0xf04e8D5d777aC2497041676Ac1466c06af351984']\n",
      "Student ID:  DANMEJ000000016  Courses:  ['0xbD6C8555B655172f29409dB472671Cb3ba59FC4c', '0xac330069eF5F6AEd07f2FDcB6B13f4A6dc2aE79D', '0x0Ae2F1aAD7e98862f56588e9605B96E4422a5B2d', '0xf04e8D5d777aC2497041676Ac1466c06af351984']\n",
      "Student ID:  KEVTER000000037  Courses:  ['0xbD6C8555B655172f29409dB472671Cb3ba59FC4c', '0xac330069eF5F6AEd07f2FDcB6B13f4A6dc2aE79D', '0x0Ae2F1aAD7e98862f56588e9605B96E4422a5B2d', '0xf04e8D5d777aC2497041676Ac1466c06af351984']\n",
      "Student ID:  ROBHOW000000012  Courses:  ['0xbD6C8555B655172f29409dB472671Cb3ba59FC4c', '0xac330069eF5F6AEd07f2FDcB6B13f4A6dc2aE79D', '0x0Ae2F1aAD7e98862f56588e9605B96E4422a5B2d', '0xf04e8D5d777aC2497041676Ac1466c06af351984']\n",
      "Student ID:  CARNOD000000032  Courses:  ['0xbD6C8555B655172f29409dB472671Cb3ba59FC4c', '0xac330069eF5F6AEd07f2FDcB6B13f4A6dc2aE79D', '0x0Ae2F1aAD7e98862f56588e9605B96E4422a5B2d', '0xf04e8D5d777aC2497041676Ac1466c06af351984']\n",
      "Student ID:  MARVAW000000005  Courses:  ['0xbD6C8555B655172f29409dB472671Cb3ba59FC4c', '0xac330069eF5F6AEd07f2FDcB6B13f4A6dc2aE79D', '0x0Ae2F1aAD7e98862f56588e9605B96E4422a5B2d', '0xf04e8D5d777aC2497041676Ac1466c06af351984']\n",
      "Student ID:  ANNCAI000000018  Courses:  ['0xbD6C8555B655172f29409dB472671Cb3ba59FC4c', '0xac330069eF5F6AEd07f2FDcB6B13f4A6dc2aE79D', '0x0Ae2F1aAD7e98862f56588e9605B96E4422a5B2d', '0xf04e8D5d777aC2497041676Ac1466c06af351984']\n",
      "Student ID:  JUDVEG000000007  Courses:  ['0xbD6C8555B655172f29409dB472671Cb3ba59FC4c', '0xac330069eF5F6AEd07f2FDcB6B13f4A6dc2aE79D', '0x0Ae2F1aAD7e98862f56588e9605B96E4422a5B2d', '0xf04e8D5d777aC2497041676Ac1466c06af351984']\n",
      "Student ID:  CHAWID000000008  Courses:  ['0xbD6C8555B655172f29409dB472671Cb3ba59FC4c', '0xac330069eF5F6AEd07f2FDcB6B13f4A6dc2aE79D', '0x0Ae2F1aAD7e98862f56588e9605B96E4422a5B2d', '0xf04e8D5d777aC2497041676Ac1466c06af351984']\n"
     ]
    }
   ],
   "source": [
    "# web3.py instance - use local chain\n",
    "web3 = Web3(HTTPProvider('http://localhost:8545')) # 137.158.107.211\n",
    "# web3 = Web3(HTTPProvider('http://137.158.107.211:8545')) #\n",
    "\n",
    "# specify which solidity contract is used\n",
    "with open('../../playground/test2/contracts/Contracts.sol', 'r') as myfile:\n",
    "    contract_file = myfile.read() #.replace('\\n', '')\n",
    "\n",
    "student_interface = compile_contract(contract_file, 'Students')\n",
    "course_interface = compile_contract(contract_file, 'Courses')\n",
    "\n",
    "with open('students.csv', 'r') as myfile:\n",
    "    students = myfile.readlines()\n",
    "\n",
    "student_dict = import_students_to_blockchain(students, student_interface)\n",
    "with open('student_addresses.csv', 'w') as myfile:\n",
    "    for key, value in student_dict.items():\n",
    "        myfile.write(value + '\\n')\n",
    "\n",
    "\n",
    "with open('course_info.csv', 'r') as myfile:\n",
    "    courses = myfile.readlines()\n",
    "\n",
    "course_dict = import_courses_to_blockchain(courses, course_interface)\n",
    "with open('course_addresses.csv', 'w') as myfile:\n",
    "    for key, value in course_dict.items():\n",
    "        myfile.write(value + '\\n')\n",
    "\n",
    "enroll_students_on_blockchain(student_dict, course_dict, student_interface)\n",
    "\n",
    "substitute_id_and_code_with_address('KWS30013C_grades.csv', 'KWS30013C_grades_sub.csv', student_dict, course_dict)\n",
    "substitute_id_and_code_with_address('WOZ52303W_grades.csv', 'WOZ52303W_grades_sub.csv', student_dict, course_dict)"
   ]
  },
  {
   "cell_type": "markdown",
   "metadata": {},
   "source": [
    "# Front End"
   ]
  }
 ],
 "metadata": {
  "anaconda-cloud": {},
  "kernelspec": {
   "display_name": "Python 3",
   "language": "python",
   "name": "python3"
  },
  "language_info": {
   "codemirror_mode": {
    "name": "ipython",
    "version": 3
   },
   "file_extension": ".py",
   "mimetype": "text/x-python",
   "name": "python",
   "nbconvert_exporter": "python",
   "pygments_lexer": "ipython3",
   "version": "3.5.2"
  }
 },
 "nbformat": 4,
 "nbformat_minor": 1
}
